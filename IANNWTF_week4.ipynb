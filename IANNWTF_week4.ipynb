{
  "nbformat": 4,
  "nbformat_minor": 0,
  "metadata": {
    "colab": {
      "name": "Untitled8.ipynb",
      "private_outputs": true,
      "provenance": [],
      "authorship_tag": "ABX9TyOo59HCjZvp61H7tnQEvsAg",
      "include_colab_link": true
    },
    "kernelspec": {
      "name": "python3",
      "display_name": "Python 3"
    },
    "accelerator": "TPU"
  },
  "cells": [
    {
      "cell_type": "markdown",
      "metadata": {
        "id": "view-in-github",
        "colab_type": "text"
      },
      "source": [
        "<a href=\"https://colab.research.google.com/github/ekorovina/Implementing-ANN-with-TensorFlow/blob/main/IANNWTF_week4.ipynb\" target=\"_parent\"><img src=\"https://colab.research.google.com/assets/colab-badge.svg\" alt=\"Open In Colab\"/></a>"
      ]
    },
    {
      "cell_type": "code",
      "metadata": {
        "id": "JLMLEKIujXnQ"
      },
      "source": [
        "import numpy as np\n",
        "import tensorflow as tf\n",
        "import matplotlib.pyplot as plt\n",
        "import tensorflow_datasets as tfds"
      ],
      "execution_count": null,
      "outputs": []
    },
    {
      "cell_type": "code",
      "metadata": {
        "id": "NadEv-0BjuVM"
      },
      "source": [
        "train_ds = tfds.load('malaria', split='train[:80%]', as_supervised=True)"
      ],
      "execution_count": null,
      "outputs": []
    },
    {
      "cell_type": "code",
      "metadata": {
        "id": "GYzcZQ9YlDxi"
      },
      "source": [
        "test_ds = tfds.load('malaria', split='train[:-20%]', as_supervised=True)"
      ],
      "execution_count": null,
      "outputs": []
    },
    {
      "cell_type": "code",
      "metadata": {
        "id": "OZ78EmSflKeL"
      },
      "source": [
        "fig, ax = plt.subplots(1, 5)\n",
        "c=0\n",
        "for i in train_ds.take(5):\n",
        "  img = i[0]\n",
        "  lbl = int(i[1])\n",
        "\n",
        "  ax[c].imshow((img), cmap='gray')\n",
        "  ax[c].set_title(img.shape)\n",
        "  ax[c].axis(\"off\")\n",
        "\n",
        "  c+=1"
      ],
      "execution_count": null,
      "outputs": []
    },
    {
      "cell_type": "code",
      "metadata": {
        "id": "ioEKhLL9mKIg"
      },
      "source": [
        "width=[]\n",
        "height=[]\n",
        "\n",
        "for (x,y) in train_ds:\n",
        "  width+=[len(x)]\n",
        "  height+=[len(x[0])]\n",
        "\n",
        "maxheight = max(height)\n",
        "maxwidth = max(width)"
      ],
      "execution_count": null,
      "outputs": []
    },
    {
      "cell_type": "code",
      "metadata": {
        "id": "_5HEQdgdmw6A"
      },
      "source": [
        "train_data = train_ds.map(lambda img, label: (tf.image.resize(img, [maxheight, maxwidth]), label))\n",
        "test_data = test_ds.map(lambda img, label: (tf.image.resize(img, [maxheight, maxwidth]), label))"
      ],
      "execution_count": null,
      "outputs": []
    },
    {
      "cell_type": "code",
      "metadata": {
        "id": "ScbE7HLdnNdD"
      },
      "source": [
        "fig, ax = plt.subplots(1, 5)\n",
        "c=0\n",
        "for i in train_data.take(5):\n",
        "  img = i[0]\n",
        "  lbl = int(i[1])\n",
        "\n",
        "  ax[c].imshow((tf.cast(img, dtype=tf.int64)), cmap='gray')\n",
        "  ax[c].set_title(img.shape)\n",
        "  ax[c].axis(\"off\")\n",
        "\n",
        "  c+=1"
      ],
      "execution_count": null,
      "outputs": []
    },
    {
      "cell_type": "code",
      "metadata": {
        "id": "pSZ_RfgfosDN"
      },
      "source": [
        "def normalization(x):\n",
        "  max = tf.math.reduce_max(x)\n",
        "  min = tf.math.reduce_min(x)\n",
        "  result = tf.math.substract(x, min)\n",
        "  result = tf.math.divide(result, (max-min))\n",
        "  return(result)"
      ],
      "execution_count": null,
      "outputs": []
    },
    {
      "cell_type": "code",
      "metadata": {
        "id": "oTo97fqHqEvd"
      },
      "source": [
        "def show1(data):\n",
        "  for e in data.take(1):\n",
        "    print(e[0].shape)\n",
        "    img = e[0]\n",
        "    print(img[0][0])\n",
        "    print(img[150][100])\n",
        "    print(e[1])\n",
        "    plt.imshow((tf.cast(e[0], dtype = tf.int64)))"
      ],
      "execution_count": null,
      "outputs": []
    },
    {
      "cell_type": "code",
      "metadata": {
        "id": "H8ME4ZODrrFB"
      },
      "source": [
        "train_data = "
      ],
      "execution_count": null,
      "outputs": []
    }
  ]
}